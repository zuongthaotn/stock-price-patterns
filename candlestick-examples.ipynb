{
 "cells": [
  {
   "cell_type": "markdown",
   "id": "f50156c3-ff47-49cc-bd7c-60fdc1e739da",
   "metadata": {},
   "source": [
    "## Candlesticks pattern modeling - Examples"
   ]
  },
  {
   "cell_type": "code",
   "execution_count": 1,
   "id": "7f916ded-9569-4a71-b3eb-131ca992c54b",
   "metadata": {},
   "outputs": [],
   "source": [
    "import pandas as pd\n",
    "import os\n",
    "from pathlib import Path\n",
    "from candlestick import CandlestickPatterns"
   ]
  },
  {
   "cell_type": "code",
   "execution_count": 2,
   "id": "5a3b7121-c7c5-4354-83f7-cd1e88838707",
   "metadata": {},
   "outputs": [],
   "source": [
    "notebook_path = os.getcwd()\n",
    "current_dir = Path(notebook_path)\n",
    "csv_file = str(current_dir) + '/VN30F1M_5minutes.csv'\n",
    "is_file = os.path.isfile(csv_file)\n",
    "if is_file:\n",
    "    dataset = pd.read_csv(csv_file, index_col='Date', parse_dates=True)\n",
    "else:\n",
    "    print(csv_file)\n",
    "    print(\"File not found\")"
   ]
  },
  {
   "cell_type": "code",
   "execution_count": 3,
   "id": "00b9dc0d-47de-49ff-8fbe-c97b9f369b16",
   "metadata": {},
   "outputs": [],
   "source": [
    "csp = CandlestickPatterns(dataset)"
   ]
  },
  {
   "cell_type": "code",
   "execution_count": null,
   "id": "ec273fcf-3ed7-4dd1-88c2-0316ee1bffe9",
   "metadata": {},
   "outputs": [],
   "source": [
    "%%time\n",
    "modeling_data = csp.pattern_modeling()"
   ]
  },
  {
   "cell_type": "code",
   "execution_count": null,
   "id": "2cba4885-c058-405f-a672-bb759255f516",
   "metadata": {},
   "outputs": [],
   "source": [
    "modeling_data"
   ]
  },
  {
   "cell_type": "code",
   "execution_count": null,
   "id": "1877a92c-11b6-493c-81d7-68b20f660f8f",
   "metadata": {},
   "outputs": [],
   "source": []
  }
 ],
 "metadata": {
  "kernelspec": {
   "display_name": "Python 3 (ipykernel)",
   "language": "python",
   "name": "python3"
  },
  "language_info": {
   "codemirror_mode": {
    "name": "ipython",
    "version": 3
   },
   "file_extension": ".py",
   "mimetype": "text/x-python",
   "name": "python",
   "nbconvert_exporter": "python",
   "pygments_lexer": "ipython3",
   "version": "3.11.4"
  }
 },
 "nbformat": 4,
 "nbformat_minor": 5
}
